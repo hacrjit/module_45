{
 "cells": [
  {
   "cell_type": "markdown",
   "id": "367123f2-eaeb-4c21-94d9-6b91d99f0fc8",
   "metadata": {},
   "source": [
    "### <b>Question No. 1</b>"
   ]
  },
  {
   "cell_type": "markdown",
   "id": "c7d96c15-9fcb-4771-b260-e2ed2422aeb2",
   "metadata": {},
   "source": [
    "The Probability Density Function (PDF) is a function that describes the likelihood of a continuous random variable taking on a particular value. In other words, it gives the probability that the variable falls within a particular range of values. The PDF is used to model continuous random variables and is analogous to the probability mass function (PMF) for discrete random variables.\n",
    "\n",
    "Mathematically, the PDF of a continuous random variable X is denoted as f(x) and is defined such that the probability of X falling between two values a and b (where a < b) is given by the integral of f(x) over the interval [a, b]:\n",
    "\n",
    "P(a ≤ X ≤ b) = ∫[a, b] f(x) dx\n",
    "\n",
    "The PDF must satisfy two properties:\n",
    "1. The PDF is non-negative for all values of x: f(x) ≥ 0 for all x.\n",
    "2. The total area under the PDF curve is equal to 1: ∫[-∞, ∞] f(x) dx = 1.\n",
    "\n",
    "The PDF is a fundamental concept in probability theory and is used in many areas of science, engineering, and statistics to model and analyze continuous random variables."
   ]
  },
  {
   "cell_type": "markdown",
   "id": "9adaa4ac-d4a3-4b1c-b2b1-4b61f06b7c42",
   "metadata": {},
   "source": [
    "### <b>Question No. 2"
   ]
  },
  {
   "cell_type": "markdown",
   "id": "92af245b-11fe-43d7-9e15-08a85f8ce26d",
   "metadata": {},
   "source": [
    "There are several types of probability distributions, each with its own characteristics and applications. Some of the most common types include:\n",
    "\n",
    "1. **Normal Distribution:** Also known as the Gaussian distribution, it is characterized by a bell-shaped curve and is symmetrical around the mean. Many natural phenomena follow this distribution.\n",
    "\n",
    "2. **Binomial Distribution:** Used to model the number of successful outcomes in a fixed number of trials, where each trial has the same probability of success.\n",
    "\n",
    "3. **Poisson Distribution:** Used to model the number of events occurring in a fixed interval of time or space, given a known average rate of occurrence.\n",
    "\n",
    "4. **Uniform Distribution:** All outcomes are equally likely. For example, rolling a fair six-sided die.\n",
    "\n",
    "5. **Exponential Distribution:** Describes the time between events in a Poisson process, where events occur continuously and independently at a constant average rate.\n",
    "\n",
    "6. **Chi-Squared Distribution:** Used in hypothesis testing and confidence interval estimation for the variance of a normal distribution.\n",
    "\n",
    "7. **Student's t-Distribution:** Used for estimating the mean of a normally distributed population when the sample size is small and the population standard deviation is unknown.\n",
    "\n",
    "8. **F-Distribution:** Used in the analysis of variance (ANOVA) to compare variances of two or more samples."
   ]
  },
  {
   "cell_type": "markdown",
   "id": "64c5cf8b-55ab-4eea-97b3-87d46b83114a",
   "metadata": {},
   "source": [
    "### <b>Question No. 3"
   ]
  },
  {
   "cell_type": "code",
   "execution_count": 1,
   "id": "9d54ae82-b5dd-426b-90ba-200951e7e13c",
   "metadata": {},
   "outputs": [
    {
     "name": "stdout",
     "output_type": "stream",
     "text": [
      "PDF at x=0: 0.3989422804014327\n"
     ]
    }
   ],
   "source": [
    "import math\n",
    "\n",
    "def normal_pdf(x, mean, std_dev):\n",
    "    \"\"\"\n",
    "    Calculate the probability density function (PDF) of a normal distribution at a given point x.\n",
    "\n",
    "    Parameters:\n",
    "    - x (float): The point at which to calculate the PDF.\n",
    "    - mean (float): The mean of the normal distribution.\n",
    "    - std_dev (float): The standard deviation of the normal distribution.\n",
    "\n",
    "    Returns:\n",
    "    - float: The PDF value at the given point x.\n",
    "    \"\"\"\n",
    "    exponent = -((x - mean) ** 2) / (2 * std_dev ** 2)\n",
    "    pdf = (1 / (std_dev * math.sqrt(2 * math.pi))) * math.exp(exponent)\n",
    "    return pdf\n",
    "\n",
    "# Example usage\n",
    "mean = 0\n",
    "std_dev = 1\n",
    "x = 0\n",
    "pdf_at_x = normal_pdf(x, mean, std_dev)\n",
    "print(f\"PDF at x={x}: {pdf_at_x}\")\n"
   ]
  },
  {
   "cell_type": "markdown",
   "id": "b83cf481-c324-4334-aa90-46319d1f9741",
   "metadata": {},
   "source": [
    "### <b>Question No. 4"
   ]
  },
  {
   "cell_type": "markdown",
   "id": "d4d8496f-4db4-47c5-ae9a-d5b8c29d42bb",
   "metadata": {},
   "source": [
    "The binomial distribution is a discrete probability distribution that describes the number of successes in a fixed number of independent Bernoulli trials, where each trial has a constant probability of success, denoted by \\(p\\). The properties of the binomial distribution include:\n",
    "\n",
    "1. **Fixed Number of Trials:** The number of trials, denoted by \\(n\\), is fixed in advance.\n",
    "2. **Independent Trials:** Each trial is independent of the others.\n",
    "3. **Two Possible Outcomes:** Each trial has two possible outcomes: success or failure.\n",
    "4. **Constant Probability:** The probability of success, denoted by \\(p\\), is constant for each trial.\n",
    "5. **Discrete Distribution:** The binomial distribution is discrete, meaning it is defined for integer values of the random variable representing the number of successes.\n",
    "\n",
    "Examples of events where the binomial distribution can be applied include:\n",
    "\n",
    "1. **Coin Flips:** The number of heads obtained in a fixed number of coin flips, where each flip has a constant probability of landing heads.\n",
    "2. **Product Defects:** The number of defective products in a sample of a fixed size, where each product has a constant probability of being defective.\n",
    "\n",
    "In both examples, each trial (coin flip or product inspection) is independent, has two possible outcomes (success or failure), and has a fixed probability of success (probability of getting heads or probability of a product being defective)."
   ]
  },
  {
   "cell_type": "markdown",
   "id": "db4e5aab-84d4-424c-8a66-1f95cdc99916",
   "metadata": {},
   "source": [
    "### <b>Question No. 5"
   ]
  },
  {
   "cell_type": "code",
   "execution_count": 2,
   "id": "cf05adac-0633-4262-8518-a57ccdc4f583",
   "metadata": {},
   "outputs": [
    {
     "data": {
      "image/png": "[encoded data removed]",
      "text/plain": [
       "<Figure size 640x480 with 1 Axes>"
      ]
     },
     "metadata": {},
     "output_type": "display_data"
    }
   ],
   "source": [
    "import matplotlib.pyplot as plt\n",
    "import numpy as np\n",
    "\n",
    "# Generate random sample from binomial distribution\n",
    "sample_size = 1000\n",
    "probability = 0.4\n",
    "random_sample = np.random.binomial(1, probability, sample_size)\n",
    "\n",
    "# Plot histogram\n",
    "plt.hist(random_sample, bins=2, color='skyblue', edgecolor='black', alpha=0.7)\n",
    "plt.title('Binomial Distribution Histogram')\n",
    "plt.xlabel('Success (1) or Failure (0)')\n",
    "plt.ylabel('Frequency')\n",
    "plt.xticks([0, 1], ['Failure', 'Success'])\n",
    "plt.show()"
   ]
  },
  {
   "cell_type": "markdown",
   "id": "7a7d271c-61a0-406d-843e-5603f59a39cb",
   "metadata": {},
   "source": [
    "### <b>Question No. 6"
   ]
  },
  {
   "cell_type": "code",
   "execution_count": 3,
   "id": "9e2dba89-0ffb-4fdb-b387-baf123ccf81c",
   "metadata": {},
   "outputs": [
    {
     "name": "stdout",
     "output_type": "stream",
     "text": [
      "CDF at k=3: 0.7575761331330659\n"
     ]
    }
   ],
   "source": [
    "import math\n",
    "\n",
    "def poisson_cdf(k, mean):\n",
    "    \"\"\"\n",
    "    Calculate the cumulative distribution function (CDF) of a Poisson distribution at a given point k.\n",
    "\n",
    "    Parameters:\n",
    "    - k (int): The point at which to calculate the CDF.\n",
    "    - mean (float): The mean of the Poisson distribution.\n",
    "\n",
    "    Returns:\n",
    "    - float: The CDF value at the given point k.\n",
    "    \"\"\"\n",
    "    cdf = 0\n",
    "    for i in range(k + 1):\n",
    "        cdf += math.exp(-mean) * (mean ** i) / math.factorial(i)\n",
    "    return cdf\n",
    "\n",
    "# Example usage\n",
    "mean = 2.5\n",
    "k = 3\n",
    "cdf_at_k = poisson_cdf(k, mean)\n",
    "print(f\"CDF at k={k}: {cdf_at_k}\")\n"
   ]
  },
  {
   "cell_type": "markdown",
   "id": "f9e6998f-6a05-4195-8908-d5eee564f8dc",
   "metadata": {},
   "source": [
    "### <b>Question No. 7"
   ]
  },
  {
   "cell_type": "markdown",
   "id": "300b0210-71d9-4dc6-b6cb-66e6dbcd788c",
   "metadata": {},
   "source": [
    "The Binomial and Poisson distributions are both used to model the number of successes in a fixed number of trials. However, they differ in several key aspects:\n",
    "\n",
    "1. **Number of Trials:** The Binomial distribution is used when the number of trials, denoted by \\(n\\), is fixed in advance. Each trial has two possible outcomes (success or failure). In contrast, the Poisson distribution is used when the number of trials is not fixed and the events occur at a constant rate over time or space.\n",
    "\n",
    "2. **Probability of Success:** In the Binomial distribution, the probability of success in each trial, denoted by \\(p\\), remains constant. In the Poisson distribution, there is no concept of success or failure in individual trials; instead, the focus is on the average rate of occurrence of events, denoted by \\(\\lambda\\).\n",
    "\n",
    "3. **Nature of Events:** The Binomial distribution is used for events that can be classified as successes or failures, such as the outcome of a coin flip or the success rate of a manufacturing process. The Poisson distribution is used for events that occur randomly and independently of each other, such as the number of phone calls received at a call center in a given time period.\n",
    "\n",
    "4. **Assumptions:** The Binomial distribution assumes a fixed number of trials and a constant probability of success. The Poisson distribution assumes that the events occur randomly and independently of each other, with a constant average rate of occurrence."
   ]
  },
  {
   "cell_type": "markdown",
   "id": "b688e988-9b69-4600-8848-79f440c03fa4",
   "metadata": {},
   "source": [
    "### <b>Question No. 8"
   ]
  },
  {
   "cell_type": "code",
   "execution_count": 4,
   "id": "94e8700d-1b5b-4aa4-9193-c06d2ab5c79d",
   "metadata": {},
   "outputs": [
    {
     "name": "stdout",
     "output_type": "stream",
     "text": [
      "Sample Mean: 4.981\n",
      "Sample Variance: 4.732639\n"
     ]
    }
   ],
   "source": [
    "import numpy as np\n",
    "\n",
    "# Generate random sample from Poisson distribution\n",
    "sample_size = 1000\n",
    "mean = 5\n",
    "random_sample = np.random.poisson(mean, sample_size)\n",
    "\n",
    "# Calculate sample mean and variance\n",
    "sample_mean = np.mean(random_sample)\n",
    "sample_variance = np.var(random_sample)\n",
    "\n",
    "print(f\"Sample Mean: {sample_mean}\")\n",
    "print(f\"Sample Variance: {sample_variance}\")"
   ]
  },
  {
   "cell_type": "markdown",
   "id": "f4ad797c-450f-4299-9fec-de6a512549a8",
   "metadata": {},
   "source": [
    "### <b>Question No. 9"
   ]
  },
  {
   "cell_type": "markdown",
   "id": "6bcacdcd-749e-40a2-b7af-0280b7f12f53",
   "metadata": {},
   "source": [
    "In the Binomial distribution, the mean (μ) and variance (σ²) are related by the formula:\n",
    "\n",
    "σ² = n × p × (1 - p)\n",
    "\n",
    "where:\n",
    "- n is the number of trials,\n",
    "- p is the probability of success in each trial.\n",
    "\n",
    "In the Poisson distribution, the mean (λ) and variance are equal and are both equal to λ.\n",
    "\n",
    "The relationship between mean and variance in these distributions is different. In the Binomial distribution, the variance depends on both the number of trials and the probability of success, while in the Poisson distribution, the variance is equal to the mean, reflecting a specific property of the Poisson distribution where the spread is directly related to the average rate of occurrence."
   ]
  },
  {
   "cell_type": "markdown",
   "id": "d0eb4c05-9a5d-40be-8b95-e1887fe055d8",
   "metadata": {},
   "source": [
    "### <b>Question No. 10"
   ]
  },
  {
   "cell_type": "markdown",
   "id": "a8fe7795-bd28-4b56-80d0-ca6d28f3687c",
   "metadata": {},
   "source": [
    "In a normal distribution, the least frequent data appears at the tails of the distribution, farthest away from the mean. This is because the normal distribution is symmetric, with the highest frequency of data points occurring around the mean, and the frequency decreasing as you move away from the mean towards the tails of the distribution. The data points in the tails are less likely to occur compared to those near the mean, making them the least frequent in the distribution."
   ]
  }
 ],
 "metadata": {
  "kernelspec": {
   "display_name": "Python 3 (ipykernel)",
   "language": "python",
   "name": "python3"
  },
  "language_info": {
   "codemirror_mode": {
    "name": "ipython",
    "version": 3
   },
   "file_extension": ".py",
   "mimetype": "text/x-python",
   "name": "python",
   "nbconvert_exporter": "python",
   "pygments_lexer": "ipython3",
   "version": "3.10.12"
  }
 },
 "nbformat": 4,
 "nbformat_minor": 5
}
